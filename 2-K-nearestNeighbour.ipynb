{
 "cells": [
  {
   "cell_type": "code",
   "execution_count": 1,
   "metadata": {},
   "outputs": [],
   "source": [
    "#Importing libraries\n",
    "import pandas as pd\n",
    "import matplotlib.pyplot as plt\n",
    "import numpy as np\n",
    "import sklearn as sk\n",
    "import glob\n",
    "import seaborn as sns\n",
    "from sklearn.metrics import confusion_matrix\n",
    "from sklearn.metrics import accuracy_score\n",
    "from sklearn.metrics import accuracy_score"
   ]
  },
  {
   "cell_type": "code",
   "execution_count": 2,
   "metadata": {},
   "outputs": [],
   "source": [
    "#Creating the Training dataframe\n",
    "path = r'/home/harindu/Assignment_II/accel_data_1' \n",
    "all_files = glob.glob(path + \"/*.csv\")\n",
    "\n",
    "li = []\n",
    "\n",
    "for filename in all_files:\n",
    "    df = pd.read_csv(filename, index_col=None, header=None)\n",
    "    li.append(df)\n",
    "\n",
    "activityDF = pd.concat(li, axis=0, ignore_index=True)"
   ]
  },
  {
   "cell_type": "code",
   "execution_count": 3,
   "metadata": {},
   "outputs": [],
   "source": [
    "#Creating the Testing dataframe\n",
    "path = r'/home/harindu/Assignment_II/accel_data_test' \n",
    "all_files = glob.glob(path + \"/*.csv\")\n",
    "\n",
    "li = []\n",
    "\n",
    "for filename in all_files:\n",
    "    df = pd.read_csv(filename, index_col=None, header=None)\n",
    "    li.append(df)\n",
    "\n",
    "activityDF_Test = pd.concat(li, axis=0, ignore_index=True)"
   ]
  },
  {
   "cell_type": "code",
   "execution_count": 4,
   "metadata": {},
   "outputs": [],
   "source": [
    "activityDF_Test.columns = ['index', 'xAccel', 'yAccel', 'zAccel', 'activity']\n",
    "activityDF_Test = activityDF_Test.drop(['index'], axis=1)"
   ]
  },
  {
   "cell_type": "code",
   "execution_count": 5,
   "metadata": {},
   "outputs": [],
   "source": [
    "activityDF_Test = activityDF_Test.drop(activityDF_Test[activityDF_Test.activity == 0].index)"
   ]
  },
  {
   "cell_type": "code",
   "execution_count": 6,
   "metadata": {},
   "outputs": [],
   "source": [
    "activityDF.columns = ['index', 'xAccel', 'yAccel', 'zAccel', 'activity']"
   ]
  },
  {
   "cell_type": "code",
   "execution_count": 7,
   "metadata": {},
   "outputs": [
    {
     "data": {
      "text/html": [
       "<div>\n",
       "<style scoped>\n",
       "    .dataframe tbody tr th:only-of-type {\n",
       "        vertical-align: middle;\n",
       "    }\n",
       "\n",
       "    .dataframe tbody tr th {\n",
       "        vertical-align: top;\n",
       "    }\n",
       "\n",
       "    .dataframe thead th {\n",
       "        text-align: right;\n",
       "    }\n",
       "</style>\n",
       "<table border=\"1\" class=\"dataframe\">\n",
       "  <thead>\n",
       "    <tr style=\"text-align: right;\">\n",
       "      <th></th>\n",
       "      <th>index</th>\n",
       "      <th>xAccel</th>\n",
       "      <th>yAccel</th>\n",
       "      <th>zAccel</th>\n",
       "      <th>activity</th>\n",
       "    </tr>\n",
       "  </thead>\n",
       "  <tbody>\n",
       "    <tr>\n",
       "      <th>0</th>\n",
       "      <td>0.0</td>\n",
       "      <td>1502</td>\n",
       "      <td>2215</td>\n",
       "      <td>2153</td>\n",
       "      <td>1</td>\n",
       "    </tr>\n",
       "    <tr>\n",
       "      <th>1</th>\n",
       "      <td>1.0</td>\n",
       "      <td>1667</td>\n",
       "      <td>2072</td>\n",
       "      <td>2047</td>\n",
       "      <td>1</td>\n",
       "    </tr>\n",
       "    <tr>\n",
       "      <th>2</th>\n",
       "      <td>2.0</td>\n",
       "      <td>1611</td>\n",
       "      <td>1957</td>\n",
       "      <td>1906</td>\n",
       "      <td>1</td>\n",
       "    </tr>\n",
       "    <tr>\n",
       "      <th>3</th>\n",
       "      <td>3.0</td>\n",
       "      <td>1601</td>\n",
       "      <td>1939</td>\n",
       "      <td>1831</td>\n",
       "      <td>1</td>\n",
       "    </tr>\n",
       "    <tr>\n",
       "      <th>4</th>\n",
       "      <td>4.0</td>\n",
       "      <td>1643</td>\n",
       "      <td>1965</td>\n",
       "      <td>1879</td>\n",
       "      <td>1</td>\n",
       "    </tr>\n",
       "    <tr>\n",
       "      <th>...</th>\n",
       "      <td>...</td>\n",
       "      <td>...</td>\n",
       "      <td>...</td>\n",
       "      <td>...</td>\n",
       "      <td>...</td>\n",
       "    </tr>\n",
       "    <tr>\n",
       "      <th>1431437</th>\n",
       "      <td>140900.0</td>\n",
       "      <td>2098</td>\n",
       "      <td>2305</td>\n",
       "      <td>1982</td>\n",
       "      <td>7</td>\n",
       "    </tr>\n",
       "    <tr>\n",
       "      <th>1431438</th>\n",
       "      <td>140900.0</td>\n",
       "      <td>2106</td>\n",
       "      <td>2314</td>\n",
       "      <td>1980</td>\n",
       "      <td>7</td>\n",
       "    </tr>\n",
       "    <tr>\n",
       "      <th>1431439</th>\n",
       "      <td>140900.0</td>\n",
       "      <td>2112</td>\n",
       "      <td>2319</td>\n",
       "      <td>1973</td>\n",
       "      <td>7</td>\n",
       "    </tr>\n",
       "    <tr>\n",
       "      <th>1431440</th>\n",
       "      <td>140900.0</td>\n",
       "      <td>2111</td>\n",
       "      <td>2319</td>\n",
       "      <td>1969</td>\n",
       "      <td>7</td>\n",
       "    </tr>\n",
       "    <tr>\n",
       "      <th>1431441</th>\n",
       "      <td>140900.0</td>\n",
       "      <td>2110</td>\n",
       "      <td>2312</td>\n",
       "      <td>1972</td>\n",
       "      <td>0</td>\n",
       "    </tr>\n",
       "  </tbody>\n",
       "</table>\n",
       "<p>1431442 rows × 5 columns</p>\n",
       "</div>"
      ],
      "text/plain": [
       "            index  xAccel  yAccel  zAccel  activity\n",
       "0             0.0    1502    2215    2153         1\n",
       "1             1.0    1667    2072    2047         1\n",
       "2             2.0    1611    1957    1906         1\n",
       "3             3.0    1601    1939    1831         1\n",
       "4             4.0    1643    1965    1879         1\n",
       "...           ...     ...     ...     ...       ...\n",
       "1431437  140900.0    2098    2305    1982         7\n",
       "1431438  140900.0    2106    2314    1980         7\n",
       "1431439  140900.0    2112    2319    1973         7\n",
       "1431440  140900.0    2111    2319    1969         7\n",
       "1431441  140900.0    2110    2312    1972         0\n",
       "\n",
       "[1431442 rows x 5 columns]"
      ]
     },
     "execution_count": 7,
     "metadata": {},
     "output_type": "execute_result"
    }
   ],
   "source": [
    "activityDF"
   ]
  },
  {
   "cell_type": "code",
   "execution_count": 8,
   "metadata": {},
   "outputs": [],
   "source": [
    "activityDF = activityDF.drop(['index'], axis=1)"
   ]
  },
  {
   "cell_type": "code",
   "execution_count": 9,
   "metadata": {},
   "outputs": [
    {
     "data": {
      "text/plain": [
       "(1431442, 4)"
      ]
     },
     "execution_count": 9,
     "metadata": {},
     "output_type": "execute_result"
    }
   ],
   "source": [
    "activityDF.shape"
   ]
  },
  {
   "cell_type": "code",
   "execution_count": 10,
   "metadata": {},
   "outputs": [
    {
     "data": {
      "text/plain": [
       "xAccel      int64\n",
       "yAccel      int64\n",
       "zAccel      int64\n",
       "activity    int64\n",
       "dtype: object"
      ]
     },
     "execution_count": 10,
     "metadata": {},
     "output_type": "execute_result"
    }
   ],
   "source": [
    "#Comparing the data types\n",
    "activityDF.dtypes"
   ]
  },
  {
   "cell_type": "code",
   "execution_count": 11,
   "metadata": {},
   "outputs": [
    {
     "data": {
      "text/plain": [
       "1    469437\n",
       "7    436951\n",
       "4    268320\n",
       "3    150927\n",
       "5     37338\n",
       "2     35703\n",
       "6     29320\n",
       "0      3446\n",
       "Name: activity, dtype: int64"
      ]
     },
     "execution_count": 11,
     "metadata": {},
     "output_type": "execute_result"
    }
   ],
   "source": [
    "activityDF['activity'].value_counts()"
   ]
  },
  {
   "cell_type": "code",
   "execution_count": 12,
   "metadata": {},
   "outputs": [],
   "source": [
    "activityDF = activityDF.drop(activityDF[activityDF.activity == 0].index)"
   ]
  },
  {
   "cell_type": "code",
   "execution_count": 13,
   "metadata": {},
   "outputs": [
    {
     "data": {
      "text/plain": [
       "1    469437\n",
       "7    436951\n",
       "4    268320\n",
       "3    150927\n",
       "5     37338\n",
       "2     35703\n",
       "6     29320\n",
       "Name: activity, dtype: int64"
      ]
     },
     "execution_count": 13,
     "metadata": {},
     "output_type": "execute_result"
    }
   ],
   "source": [
    "activityDF['activity'].value_counts()"
   ]
  },
  {
   "cell_type": "code",
   "execution_count": 14,
   "metadata": {},
   "outputs": [
    {
     "data": {
      "text/plain": [
       "(1427996, 4)"
      ]
     },
     "execution_count": 14,
     "metadata": {},
     "output_type": "execute_result"
    }
   ],
   "source": [
    "activityDF.shape"
   ]
  },
  {
   "cell_type": "code",
   "execution_count": 15,
   "metadata": {},
   "outputs": [
    {
     "name": "stdout",
     "output_type": "stream",
     "text": [
      "<class 'pandas.core.frame.DataFrame'>\n",
      "Int64Index: 1427996 entries, 0 to 1431440\n",
      "Data columns (total 4 columns):\n",
      " #   Column    Non-Null Count    Dtype\n",
      "---  ------    --------------    -----\n",
      " 0   xAccel    1427996 non-null  int64\n",
      " 1   yAccel    1427996 non-null  int64\n",
      " 2   zAccel    1427996 non-null  int64\n",
      " 3   activity  1427996 non-null  int64\n",
      "dtypes: int64(4)\n",
      "memory usage: 54.5 MB\n"
     ]
    }
   ],
   "source": [
    "activityDF.info()"
   ]
  },
  {
   "cell_type": "code",
   "execution_count": 16,
   "metadata": {},
   "outputs": [
    {
     "data": {
      "text/html": [
       "<div>\n",
       "<style scoped>\n",
       "    .dataframe tbody tr th:only-of-type {\n",
       "        vertical-align: middle;\n",
       "    }\n",
       "\n",
       "    .dataframe tbody tr th {\n",
       "        vertical-align: top;\n",
       "    }\n",
       "\n",
       "    .dataframe thead th {\n",
       "        text-align: right;\n",
       "    }\n",
       "</style>\n",
       "<table border=\"1\" class=\"dataframe\">\n",
       "  <thead>\n",
       "    <tr style=\"text-align: right;\">\n",
       "      <th></th>\n",
       "      <th>xAccel</th>\n",
       "      <th>yAccel</th>\n",
       "      <th>zAccel</th>\n",
       "      <th>activity</th>\n",
       "    </tr>\n",
       "  </thead>\n",
       "  <tbody>\n",
       "    <tr>\n",
       "      <th>count</th>\n",
       "      <td>1,427,996.0000000000</td>\n",
       "      <td>1,427,996.0000000000</td>\n",
       "      <td>1,427,996.0000000000</td>\n",
       "      <td>1,427,996.0000000000</td>\n",
       "    </tr>\n",
       "    <tr>\n",
       "      <th>mean</th>\n",
       "      <td>1,959.8665878616</td>\n",
       "      <td>2,379.6311999473</td>\n",
       "      <td>1,989.5479637198</td>\n",
       "      <td>3.8432677683</td>\n",
       "    </tr>\n",
       "    <tr>\n",
       "      <th>std</th>\n",
       "      <td>108.4654587558</td>\n",
       "      <td>101.5129892019</td>\n",
       "      <td>85.7307301386</td>\n",
       "      <td>2.4498899962</td>\n",
       "    </tr>\n",
       "    <tr>\n",
       "      <th>min</th>\n",
       "      <td>282.0000000000</td>\n",
       "      <td>146.0000000000</td>\n",
       "      <td>1.0000000000</td>\n",
       "      <td>1.0000000000</td>\n",
       "    </tr>\n",
       "    <tr>\n",
       "      <th>25%</th>\n",
       "      <td>1,885.0000000000</td>\n",
       "      <td>2,337.0000000000</td>\n",
       "      <td>1,952.0000000000</td>\n",
       "      <td>1.0000000000</td>\n",
       "    </tr>\n",
       "    <tr>\n",
       "      <th>50%</th>\n",
       "      <td>1,951.0000000000</td>\n",
       "      <td>2,363.0000000000</td>\n",
       "      <td>2,001.0000000000</td>\n",
       "      <td>4.0000000000</td>\n",
       "    </tr>\n",
       "    <tr>\n",
       "      <th>75%</th>\n",
       "      <td>2,063.0000000000</td>\n",
       "      <td>2,395.0000000000</td>\n",
       "      <td>2,041.0000000000</td>\n",
       "      <td>7.0000000000</td>\n",
       "    </tr>\n",
       "    <tr>\n",
       "      <th>max</th>\n",
       "      <td>3,828.0000000000</td>\n",
       "      <td>3,997.0000000000</td>\n",
       "      <td>4,095.0000000000</td>\n",
       "      <td>7.0000000000</td>\n",
       "    </tr>\n",
       "  </tbody>\n",
       "</table>\n",
       "</div>"
      ],
      "text/plain": [
       "                    xAccel               yAccel               zAccel  \\\n",
       "count 1,427,996.0000000000 1,427,996.0000000000 1,427,996.0000000000   \n",
       "mean      1,959.8665878616     2,379.6311999473     1,989.5479637198   \n",
       "std         108.4654587558       101.5129892019        85.7307301386   \n",
       "min         282.0000000000       146.0000000000         1.0000000000   \n",
       "25%       1,885.0000000000     2,337.0000000000     1,952.0000000000   \n",
       "50%       1,951.0000000000     2,363.0000000000     2,001.0000000000   \n",
       "75%       2,063.0000000000     2,395.0000000000     2,041.0000000000   \n",
       "max       3,828.0000000000     3,997.0000000000     4,095.0000000000   \n",
       "\n",
       "                  activity  \n",
       "count 1,427,996.0000000000  \n",
       "mean          3.8432677683  \n",
       "std           2.4498899962  \n",
       "min           1.0000000000  \n",
       "25%           1.0000000000  \n",
       "50%           4.0000000000  \n",
       "75%           7.0000000000  \n",
       "max           7.0000000000  "
      ]
     },
     "execution_count": 16,
     "metadata": {},
     "output_type": "execute_result"
    }
   ],
   "source": [
    "pd.options.display.float_format = '{:,.10f}'.format\n",
    "activityDF.describe()"
   ]
  },
  {
   "cell_type": "code",
   "execution_count": 17,
   "metadata": {},
   "outputs": [
    {
     "data": {
      "text/plain": [
       "xAccel      1427996\n",
       "yAccel      1427996\n",
       "zAccel      1427996\n",
       "activity    1427996\n",
       "dtype: int64"
      ]
     },
     "execution_count": 17,
     "metadata": {},
     "output_type": "execute_result"
    }
   ],
   "source": [
    "activityDF.notnull().sum()"
   ]
  },
  {
   "cell_type": "code",
   "execution_count": 18,
   "metadata": {},
   "outputs": [],
   "source": [
    "#Shuffling the dataframe\n",
    "\n",
    "activityDF = activityDF.sample(frac=1).reset_index(drop=True)"
   ]
  },
  {
   "cell_type": "code",
   "execution_count": 61,
   "metadata": {},
   "outputs": [],
   "source": [
    "#MinMax Scaler for features\n",
    "\n",
    "from sklearn.preprocessing import MinMaxScaler\n",
    "scaler = MinMaxScaler()\n",
    "activityDF[['xAccel', 'yAccel', 'zAccel']] = scaler.fit_transform(activityDF[['xAccel', 'yAccel', 'zAccel']])"
   ]
  },
  {
   "cell_type": "code",
   "execution_count": 19,
   "metadata": {},
   "outputs": [],
   "source": [
    "#Dividing the features and the class variable in to 2 dataframes\n",
    "\n",
    "X = activityDF[['xAccel', 'yAccel', 'zAccel']]\n",
    "Y = activityDF[['activity']]"
   ]
  },
  {
   "cell_type": "code",
   "execution_count": 20,
   "metadata": {},
   "outputs": [
    {
     "name": "stdout",
     "output_type": "stream",
     "text": [
      "(1142396, 3)\n",
      "(285600, 3)\n",
      "(1142396, 1)\n",
      "(285600, 1)\n"
     ]
    }
   ],
   "source": [
    "#Importing train, test split from the Sklearn in order to split the data in to training data and testing data\n",
    "\n",
    "from sklearn.model_selection import train_test_split\n",
    "trainX, testX, trainY, testY = train_test_split(np.array(X), np.array(Y), test_size=0.2)\n",
    "print(trainX.shape)\n",
    "print(testX.shape)\n",
    "print(trainY.shape)\n",
    "print(testY.shape)"
   ]
  },
  {
   "cell_type": "code",
   "execution_count": 40,
   "metadata": {},
   "outputs": [
    {
     "name": "stderr",
     "output_type": "stream",
     "text": [
      "/home/harindu/anaconda3/lib/python3.7/site-packages/ipykernel_launcher.py:4: DataConversionWarning: A column-vector y was passed when a 1d array was expected. Please change the shape of y to (n_samples, ), for example using ravel().\n",
      "  after removing the cwd from sys.path.\n"
     ]
    },
    {
     "data": {
      "text/plain": [
       "array([4, 4, 7, ..., 4, 7, 7])"
      ]
     },
     "execution_count": 40,
     "metadata": {},
     "output_type": "execute_result"
    }
   ],
   "source": [
    "from sklearn.neighbors import KNeighborsClassifier\n",
    "\n",
    "Kclf = KNeighborsClassifier(n_neighbors=35, weights='uniform', leaf_size=40)\n",
    "fit = Kclf.fit(trainX, trainY)\n",
    "y_pre = fit.predict(testX)\n",
    "y_pre"
   ]
  },
  {
   "cell_type": "code",
   "execution_count": 41,
   "metadata": {},
   "outputs": [
    {
     "name": "stdout",
     "output_type": "stream",
     "text": [
      "[[85696   310   764  2919    45    13  4161]\n",
      " [ 2658  1319   361  1668    20    16  1139]\n",
      " [ 1712   137 13386  6790   395   227  7248]\n",
      " [ 4201   207  2209 41186   146    90  5633]\n",
      " [  750    15  1156  3397   733    33  1407]\n",
      " [  326    12   855  1580   176   863  2140]\n",
      " [ 4006   129  3354  5886   126   473 73527]]\n"
     ]
    }
   ],
   "source": [
    "from sklearn.metrics import confusion_matrix\n",
    "cm = confusion_matrix(testY, y_pre)\n",
    "print(cm)"
   ]
  },
  {
   "cell_type": "code",
   "execution_count": 42,
   "metadata": {},
   "outputs": [
    {
     "name": "stdout",
     "output_type": "stream",
     "text": [
      "              precision    recall  f1-score   support\n",
      "\n",
      "           1       0.86      0.91      0.89     93908\n",
      "           2       0.62      0.18      0.28      7181\n",
      "           3       0.61      0.45      0.52     29895\n",
      "           4       0.65      0.77      0.70     53672\n",
      "           5       0.45      0.10      0.16      7491\n",
      "           6       0.50      0.14      0.23      5952\n",
      "           7       0.77      0.84      0.80     87501\n",
      "\n",
      "    accuracy                           0.76    285600\n",
      "   macro avg       0.64      0.48      0.51    285600\n",
      "weighted avg       0.74      0.76      0.74    285600\n",
      "\n"
     ]
    }
   ],
   "source": [
    "from sklearn.metrics import classification_report\n",
    "print(classification_report(testY,y_pre))\n"
   ]
  },
  {
   "cell_type": "code",
   "execution_count": 43,
   "metadata": {},
   "outputs": [
    {
     "name": "stdout",
     "output_type": "stream",
     "text": [
      "Accuracy: 75.87885154061624%\n"
     ]
    }
   ],
   "source": [
    "from sklearn.metrics import accuracy_score\n",
    "accuracy = accuracy_score(testY, y_pre)\n",
    "print(\"Accuracy: \" + str(accuracy*100) + \"%\")"
   ]
  }
 ],
 "metadata": {
  "kernelspec": {
   "display_name": "Python 3",
   "language": "python",
   "name": "python3"
  },
  "language_info": {
   "codemirror_mode": {
    "name": "ipython",
    "version": 3
   },
   "file_extension": ".py",
   "mimetype": "text/x-python",
   "name": "python",
   "nbconvert_exporter": "python",
   "pygments_lexer": "ipython3",
   "version": "3.7.6"
  }
 },
 "nbformat": 4,
 "nbformat_minor": 4
}
