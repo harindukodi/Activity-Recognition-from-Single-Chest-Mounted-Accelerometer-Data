{
 "cells": [
  {
   "cell_type": "code",
   "execution_count": 1,
   "metadata": {},
   "outputs": [],
   "source": [
    "#Importing libraries\n",
    "import pandas as pd\n",
    "import matplotlib.pyplot as plt\n",
    "import numpy as np\n",
    "import sklearn as sk\n",
    "import glob\n",
    "import seaborn as sns"
   ]
  },
  {
   "cell_type": "code",
   "execution_count": 2,
   "metadata": {},
   "outputs": [],
   "source": [
    "#Creating a single data frame using all 15 CSV files\n",
    "\n",
    "path = r'/home/harindu/Assignment_II/accel_data' \n",
    "all_files = glob.glob(path + \"/*.csv\")\n",
    "\n",
    "li = []\n",
    "\n",
    "for filename in all_files:\n",
    "    df = pd.read_csv(filename, index_col=None, header=None)\n",
    "    li.append(df)\n",
    "\n",
    "activityDF = pd.concat(li, axis=0, ignore_index=True)"
   ]
  },
  {
   "cell_type": "code",
   "execution_count": 3,
   "metadata": {},
   "outputs": [
    {
     "data": {
      "text/plain": [
       "1    608667\n",
       "7    593563\n",
       "4    357064\n",
       "3    216737\n",
       "5     51498\n",
       "2     47878\n",
       "6     47770\n",
       "Name: activity, dtype: int64"
      ]
     },
     "execution_count": 3,
     "metadata": {},
     "output_type": "execute_result"
    }
   ],
   "source": [
    "activityDF.columns = ['index', 'xAccel', 'yAccel', 'zAccel', 'activity']\n",
    "activityDF = activityDF.drop(['index'], axis=1)\n",
    "activityDF = activityDF.drop(activityDF[activityDF.activity == 0].index)\n",
    "activityDF['activity'].value_counts()"
   ]
  },
  {
   "cell_type": "code",
   "execution_count": 4,
   "metadata": {},
   "outputs": [
    {
     "data": {
      "image/png": "[encoded data removed]",
      "text/plain": [
       "<Figure size 720x432 with 1 Axes>"
      ]
     },
     "metadata": {
      "needs_background": "light"
     },
     "output_type": "display_data"
    }
   ],
   "source": [
    "fig = plt.figure(figsize = (10, 6))\n",
    "ax = fig.add_axes([0,0,1,1])\n",
    "ax.set_title(\"Count of each activity\", fontsize = 15)\n",
    "plt.tick_params(labelsize = 10)\n",
    "sns.countplot(x = \"activity\", data = activityDF)\n",
    "for i in ax.patches:\n",
    "    ax.text(x = i.get_x() + 0.2, y = i.get_height()+10, s = str(i.get_height()), fontsize = 20, color = \"grey\")\n",
    "plt.xlabel(\"\")\n",
    "plt.ylabel(\"Count\", fontsize = 15)\n",
    "plt.tick_params(labelsize = 13)\n",
    "plt.xticks(rotation = 40)\n",
    "plt.show()"
   ]
  },
  {
   "cell_type": "code",
   "execution_count": 5,
   "metadata": {},
   "outputs": [],
   "source": [
    "activityDF = activityDF.sample(frac=1).reset_index(drop=True)"
   ]
  },
  {
   "cell_type": "code",
   "execution_count": 10,
   "metadata": {},
   "outputs": [],
   "source": [
    "from sklearn.preprocessing import MinMaxScaler\n",
    "scaler = MinMaxScaler()\n",
    "activityDF[['xAccel', 'yAccel', 'zAccel']] = scaler.fit_transform(activityDF[['xAccel', 'yAccel', 'zAccel']])"
   ]
  },
  {
   "cell_type": "code",
   "execution_count": 6,
   "metadata": {},
   "outputs": [],
   "source": [
    "X = activityDF[['xAccel', 'yAccel', 'zAccel']]\n",
    "Y = activityDF[['activity']]"
   ]
  },
  {
   "cell_type": "code",
   "execution_count": 7,
   "metadata": {},
   "outputs": [
    {
     "name": "stdout",
     "output_type": "stream",
     "text": [
      "(1538541, 3)\n",
      "(384636, 3)\n",
      "(1538541, 1)\n",
      "(384636, 1)\n"
     ]
    }
   ],
   "source": [
    "from sklearn.model_selection import train_test_split\n",
    "trainX, testX, trainY, testY = train_test_split(np.array(X), np.array(Y), test_size=0.2)\n",
    "print(trainX.shape)\n",
    "print(testX.shape)\n",
    "print(trainY.shape)\n",
    "print(testY.shape)"
   ]
  },
  {
   "cell_type": "code",
   "execution_count": 32,
   "metadata": {},
   "outputs": [
    {
     "name": "stderr",
     "output_type": "stream",
     "text": [
      "/home/harindu/anaconda3/lib/python3.7/site-packages/ipykernel_launcher.py:4: DataConversionWarning: A column-vector y was passed when a 1d array was expected. Please change the shape of y to (n_samples, ), for example using ravel().\n",
      "  after removing the cwd from sys.path.\n"
     ]
    },
    {
     "data": {
      "text/plain": [
       "array([7, 4, 4, ..., 1, 7, 1])"
      ]
     },
     "execution_count": 32,
     "metadata": {},
     "output_type": "execute_result"
    }
   ],
   "source": [
    "from sklearn.neighbors import KNeighborsClassifier\n",
    "\n",
    "Kclf = KNeighborsClassifier(25)\n",
    "fit = Kclf.fit(trainX, trainY)\n",
    "y_pre = fit.predict(testX)\n",
    "y_pre"
   ]
  },
  {
   "cell_type": "code",
   "execution_count": 33,
   "metadata": {},
   "outputs": [
    {
     "name": "stdout",
     "output_type": "stream",
     "text": [
      "[[111510    676   1188   3804     86     41   5059]\n",
      " [  3766   1785    479   1997     29     17   1506]\n",
      " [  2275    161  20288   9795    722    446   9538]\n",
      " [  4930    211   3636  53457    243    221   8724]\n",
      " [   868      8   2004   4320   1204    125   1761]\n",
      " [   421     24   1130   1849    321   1935   3625]\n",
      " [  4630    221   4625   8333    217    958  99467]]\n"
     ]
    }
   ],
   "source": [
    "from sklearn.metrics import confusion_matrix\n",
    "cm = confusion_matrix(testY, y_pre)\n",
    "print(cm)"
   ]
  },
  {
   "cell_type": "code",
   "execution_count": 34,
   "metadata": {},
   "outputs": [
    {
     "name": "stdout",
     "output_type": "stream",
     "text": [
      "              precision    recall  f1-score   support\n",
      "\n",
      "           1       0.87      0.91      0.89    122364\n",
      "           2       0.58      0.19      0.28      9579\n",
      "           3       0.61      0.47      0.53     43225\n",
      "           4       0.64      0.75      0.69     71422\n",
      "           5       0.43      0.12      0.18     10290\n",
      "           6       0.52      0.21      0.30      9305\n",
      "           7       0.77      0.84      0.80    118451\n",
      "\n",
      "    accuracy                           0.75    384636\n",
      "   macro avg       0.63      0.50      0.52    384636\n",
      "weighted avg       0.74      0.75      0.74    384636\n",
      "\n"
     ]
    }
   ],
   "source": [
    "from sklearn.metrics import classification_report\n",
    "print(classification_report(testY,y_pre))"
   ]
  },
  {
   "cell_type": "code",
   "execution_count": 35,
   "metadata": {},
   "outputs": [
    {
     "name": "stdout",
     "output_type": "stream",
     "text": [
      "Accuracy: 75.30392370968916%\n"
     ]
    }
   ],
   "source": [
    "from sklearn.metrics import accuracy_score\n",
    "accuracy = accuracy_score(testY, y_pre)\n",
    "print(\"Accuracy: \" + str(accuracy*100) + \"%\")"
   ]
  }
 ],
 "metadata": {
  "kernelspec": {
   "display_name": "Python 3",
   "language": "python",
   "name": "python3"
  },
  "language_info": {
   "codemirror_mode": {
    "name": "ipython",
    "version": 3
   },
   "file_extension": ".py",
   "mimetype": "text/x-python",
   "name": "python",
   "nbconvert_exporter": "python",
   "pygments_lexer": "ipython3",
   "version": "3.7.6"
  }
 },
 "nbformat": 4,
 "nbformat_minor": 4
}
